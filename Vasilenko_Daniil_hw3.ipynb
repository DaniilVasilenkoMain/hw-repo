{
  "nbformat": 4,
  "nbformat_minor": 0,
  "metadata": {
    "colab": {
      "provenance": []
    },
    "kernelspec": {
      "name": "python3",
      "display_name": "Python 3"
    },
    "language_info": {
      "name": "python"
    }
  },
  "cells": [
    {
      "cell_type": "code",
      "execution_count": 20,
      "metadata": {
        "colab": {
          "base_uri": "https://localhost:8080/"
        },
        "id": "5No1B6fltTBG",
        "outputId": "2472605e-91ed-4083-e95f-e4a1a02be40e"
      },
      "outputs": [
        {
          "output_type": "stream",
          "name": "stdout",
          "text": [
            "Пустая middle shkoda (5, 5)\n",
            "Jakov Zweig\n",
            "This car is waited a new driver\n",
            "This car is being repaired\n"
          ]
        }
      ],
      "source": [
        "class Cars:\n",
        "  driver = 'Пустая'\n",
        "  repair = 'Не в ремонте'\n",
        "  XYposition = ()\n",
        "  def __init__(self, XYposition):\n",
        "    self.XYposition = XYposition\n",
        "\n",
        "class Driver:\n",
        "  def __init__(self, surname, name, id, radio_number):\n",
        "    self.surname = surname\n",
        "    self.name = name\n",
        "    self.id = id\n",
        "    self.radio_number = radio_number\n",
        "\n",
        "\n",
        "class MiningTrack(Cars):\n",
        "  def __init__(self, XYposition, weight, model):\n",
        "    super().__init__(XYposition)\n",
        "    self.weight = weight\n",
        "    self.model = model\n",
        "\n",
        "\n",
        "class UsualTrack(Cars):\n",
        "  def __init__(self, XYposition, model):\n",
        "    super().__init__(XYposition)\n",
        "    self.model = model\n",
        "    self.cargo = \"пустой\"\n",
        "\n",
        "\n",
        "  def current_cargo(self, cargo):\n",
        "    self.cargo = cargo\n",
        "    '''Задаёт конкретный груз '''\n",
        "\n",
        "class ServiceCar(Cars):\n",
        "  pass\n",
        "\n",
        "\n",
        "class Operator:\n",
        "  def car_repair(self, car):\n",
        "    car.repair = 'This car is being repaired'\n",
        "  def choose_driver(self, driver, car):\n",
        "    car.driver = str(driver.surname) + ' ' + str(driver.name)\n",
        "  def driver_over(self, driver, car):\n",
        "    car.driver = \"This car is waited a new driver\"\n",
        "\n",
        "\n",
        "driver1 = Driver(\"Jakov\", \"Zweig\", 4000, 5)\n",
        "car1 = MiningTrack((5,5), 'middle', 'shkoda')\n",
        "car2 = UsualTrack((6,0), 'rapunzel')\n",
        "print(car1.driver, car1.weight, car1.model, car1.XYposition)\n",
        "operator1 = Operator()\n",
        "operator1.choose_driver(driver1, car1)\n",
        "print(car1.driver)\n",
        "operator1.driver_over(driver1, car1)\n",
        "print(car1.driver)\n",
        "operator1.car_repair(car1)\n",
        "print(car1.repair)"
      ]
    },
    {
      "cell_type": "code",
      "source": [],
      "metadata": {
        "id": "peeik69My6o-"
      },
      "execution_count": null,
      "outputs": []
    }
  ]
}